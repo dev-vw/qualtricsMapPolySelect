{
 "cells": [
  {
   "cell_type": "code",
   "execution_count": 2,
   "id": "e8c444fc",
   "metadata": {},
   "outputs": [],
   "source": [
    "# import necessary packages\n",
    "import pandas as pd\n",
    "import re"
   ]
  },
  {
   "cell_type": "code",
   "execution_count": 3,
   "id": "900a9417",
   "metadata": {},
   "outputs": [],
   "source": [
    "# given a regular expression, find and extract all the numbers\n",
    "# return an array\n",
    "def find_num_in_text(pattern, format = \"float\"):\n",
    "    with open('coord_extract/dat/raw.txt', 'r') as text:\n",
    "        contents = text.read()\n",
    "        result = re.findall(pattern, contents)\n",
    "        \n",
    "        if format == 'int':\n",
    "            result = list(map(int, result))\n",
    "        else: \n",
    "            result = list(map(float, result))\n",
    "        \n",
    "        return(result)"
   ]
  },
  {
   "cell_type": "code",
   "execution_count": 4,
   "id": "6caab502",
   "metadata": {
    "scrolled": true
   },
   "outputs": [],
   "source": [
    "nbhd_num = find_num_in_text(re.compile('(?<=\\[)\\d+(?=\\])'), \"int\")"
   ]
  },
  {
   "cell_type": "code",
   "execution_count": 5,
   "id": "dd7fb428",
   "metadata": {},
   "outputs": [],
   "source": [
    "x_coord = find_num_in_text(re.compile('(?<=\\\"x\\\",)-\\d+.\\d+(?=\\);)'))"
   ]
  },
  {
   "cell_type": "code",
   "execution_count": 6,
   "id": "3ad349d0",
   "metadata": {},
   "outputs": [],
   "source": [
    "y_coord = find_num_in_text(re.compile('(?<=\\\"y\\\",)\\d+.\\d+(?=\\);)'))"
   ]
  },
  {
   "cell_type": "code",
   "execution_count": 8,
   "id": "18e9815e",
   "metadata": {},
   "outputs": [],
   "source": [
    "# makes arrays into dataframes, and exports to csv\n",
    "df = pd.DataFrame({'nbhd_num': nbhd_num, 'x_coord': x_coord, 'y_coord': y_coord})\n",
    "df.to_csv('coord_extract/nbhd_coords.csv', index=False)\n",
    "df.to_json('coord_extract/nbhd_coords.json', orient=\"records\")"
   ]
  }
 ],
 "metadata": {
  "kernelspec": {
   "display_name": "Python 3 (ipykernel)",
   "language": "python",
   "name": "python3"
  },
  "language_info": {
   "codemirror_mode": {
    "name": "ipython",
    "version": 3
   },
   "file_extension": ".py",
   "mimetype": "text/x-python",
   "name": "python",
   "nbconvert_exporter": "python",
   "pygments_lexer": "ipython3",
   "version": "3.9.7"
  }
 },
 "nbformat": 4,
 "nbformat_minor": 5
}
